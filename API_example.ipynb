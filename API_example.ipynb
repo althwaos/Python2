{
 "cells": [
  {
   "cell_type": "code",
   "execution_count": 46,
   "metadata": {},
   "outputs": [
    {
     "name": "stderr",
     "output_type": "stream",
     "text": [
      "C:\\Users\\omara\\AppData\\Local\\Temp\\ipykernel_43480\\3141815347.py:26: FutureWarning: A value is trying to be set on a copy of a DataFrame or Series through chained assignment using an inplace method.\n",
      "The behavior will change in pandas 3.0. This inplace method will never work because the intermediate object on which we are setting values always behaves as a copy.\n",
      "\n",
      "For example, when doing 'df[col].method(value, inplace=True)', try using 'df.method({col: value}, inplace=True)' or df[col] = df[col].method(value) instead, to perform the operation inplace on the original object.\n",
      "\n",
      "\n",
      "  df['First_day'].fillna(False, inplace=True)\n",
      "C:\\Users\\omara\\AppData\\Local\\Temp\\ipykernel_43480\\3141815347.py:27: FutureWarning: A value is trying to be set on a copy of a DataFrame or Series through chained assignment using an inplace method.\n",
      "The behavior will change in pandas 3.0. This inplace method will never work because the intermediate object on which we are setting values always behaves as a copy.\n",
      "\n",
      "For example, when doing 'df[col].method(value, inplace=True)', try using 'df.method({col: value}, inplace=True)' or df[col] = df[col].method(value) instead, to perform the operation inplace on the original object.\n",
      "\n",
      "\n",
      "  df['Last_day'].fillna(False, inplace=True)\n"
     ]
    }
   ],
   "source": [
    "import requests\n",
    "import pandas as pd\n",
    "\n",
    "url = \"https://backend.simfin.com/api/v3/companies/prices/compact?ticker=TSLA&start=2025-01-01&end=2025-06-01\"\n",
    "headers = {\n",
    "           'Authorization': 'fde00d2f-38ad-43f3-9a83-012077d42da6'\n",
    "}\n",
    "\n",
    "response = requests.get(url, headers=headers)\n",
    "data = response.json()\n",
    "\n",
    "df = pd.DataFrame(data[0]['data'])\n",
    "df.columns = ['Date',\n",
    " 'Dividend Paid',\n",
    " 'Common Shares Outstanding',\n",
    " 'Close',\n",
    " 'Adjusted Closing Price',\n",
    " 'High',\n",
    " 'Lowe',\n",
    " 'Open',\n",
    " 'Volume']\n",
    "df['Date'] = pd.to_datetime(df['Date'])\n",
    "df['week'] = df['Date'].dt.isocalendar().week\n",
    "df['First_day'] = df['week']!=df['week'].shift(1)\n",
    "df['Last_day'] = df['week']!= df['week'].shift(-1)\n",
    "df['First_day'].fillna(False, inplace=True)\n",
    "df['Last_day'].fillna(False, inplace=True)\n",
    "df['SMA_7'] = df['Close'].rolling(window=7).mean()\n",
    "df['V_SMA_7'] = df['Volume'].rolling(window=7).mean()\n",
    "df['SMA_14'] = df['Close'].rolling(window=14).mean()\n",
    "df['V_SMA_14'] = df['Volume'].rolling(window=14).mean()\n",
    "df['EMA_7'] = df['Close'].ewm(span=7, adjust=False).mean()\n",
    "df['V_EMA_7'] = df['Volume'].ewm(span=7, adjust=False).mean()\n",
    "df['EMA_14'] = df['Close'].ewm(span=14, adjust=False).mean()\n",
    "df['V_EMA_14'] = df['Volume'].ewm(span=14, adjust=False).mean()\n",
    "\n"
   ]
  }
 ],
 "metadata": {
  "kernelspec": {
   "display_name": "base",
   "language": "python",
   "name": "python3"
  },
  "language_info": {
   "codemirror_mode": {
    "name": "ipython",
    "version": 3
   },
   "file_extension": ".py",
   "mimetype": "text/x-python",
   "name": "python",
   "nbconvert_exporter": "python",
   "pygments_lexer": "ipython3",
   "version": "3.12.4"
  }
 },
 "nbformat": 4,
 "nbformat_minor": 2
}
